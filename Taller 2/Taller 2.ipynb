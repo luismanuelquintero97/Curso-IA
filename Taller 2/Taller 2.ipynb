{
 "cells": [
  {
   "cell_type": "markdown",
   "metadata": {},
   "source": [
    "# MNIST (dígitos) solución tradicional\n",
    "\n",
    "### Integrantes:\n",
    "\n",
    "Nombre:\n",
    "Nombre:\n",
    "### Números asignados: 7 y 9\n",
    "\n",
    "## Taller\n",
    "Suponga que trabajan para el desarrollo de un sistema de lectura y reconocimiento de dígitos. Para este trabajo le han proporcionado un conjunto de fotos en grises con el fin que proponga una solución de programación tradicional, es decir, sin el uso de la inteligencia artificial. El software que proponga debe tener la capacidad de determinar con una precisión una muestra de los datos que le han suministrado\n",
    "\n",
    "Durante la clase se le proporcionaran dos números para trabajar:\n",
    "\n",
    "1 y 5\n",
    "8 y 2\n",
    "9 y 7\n",
    "0 y 3\n",
    "4 y 6\n",
    "\n",
    "### Evaluación del método\n",
    "\n",
    "Seleccione aleatoriamente una muestra de 30% de los datos, en donde se incluya un balance entre los dígitos asignados (despliéguelo y evidencie las cantidades).\n",
    "\n",
    "Utilice la muestra obtenida y evalué el software (proceso o métodos) que ha propuesto, es decir, a cuantos números acertó (VP) contra los que no acertó (FP), calcule los siguientes datos:\n",
    "\n",
    "Para el primer número\n",
    "\n",
    "Reales =  número de datos\n",
    "\n",
    "Estimados = cantidad de dígitos estimados correctamente \n",
    "\n",
    "Para el segundo número\n",
    "\n",
    "Reales =  número de datos\n",
    "\n",
    "Estimados = cantidad de dígitos estimados correctamente\n",
    "Para todos los números que le corresponden\n",
    "\n",
    "$ Precision = \\frac{VP}{VP+FP}$\n",
    "\n",
    "Finalmente, despliegue el tiempo que tomo todo el proceso de evaluación.\n",
    "\n",
    "#### Entregas\n",
    "Prepare una presentación donde muestre los resultados\n",
    "Envié por un correo electrónico este archivo ipynb con la solución y resultados conseguidos"
   ]
  },
  {
   "cell_type": "markdown",
   "metadata": {},
   "source": [
    "## Paquetes"
   ]
  },
  {
   "cell_type": "code",
   "execution_count": 6,
   "metadata": {},
   "outputs": [],
   "source": [
    "from sklearn.datasets import load_digits\n",
    "import pylab as pl\n",
    "import sklearn"
   ]
  },
  {
   "cell_type": "code",
   "execution_count": 7,
   "metadata": {},
   "outputs": [
    {
     "data": {
      "text/plain": [
       "sklearn.utils.Bunch"
      ]
     },
     "execution_count": 7,
     "metadata": {},
     "output_type": "execute_result"
    }
   ],
   "source": [
    "# cargamos los datos y desplegamos el objeto\n",
    "digits = load_digits()\n",
    "type(digits)"
   ]
  },
  {
   "cell_type": "markdown",
   "metadata": {},
   "source": [
    "## Exploración de los recursos"
   ]
  },
  {
   "cell_type": "code",
   "execution_count": 4,
   "metadata": {},
   "outputs": [],
   "source": [
    "# observe las propieades del objeto, ¿a que tipo se le parece?\n",
    "?sklearn.utils.Bunch"
   ]
  },
  {
   "cell_type": "code",
   "execution_count": 27,
   "metadata": {
    "scrolled": false
   },
   "outputs": [
    {
     "name": "stdout",
     "output_type": "stream",
     "text": [
      "[[ 0.  0.  0.  0. 14.  7.  0.  0.]\n",
      " [ 0.  0.  0. 13. 16.  9.  0.  0.]\n",
      " [ 0.  0. 10. 16. 16.  7.  0.  0.]\n",
      " [ 0.  7. 16.  8. 16.  2.  0.  0.]\n",
      " [ 0.  1.  5.  6. 16.  6.  0.  0.]\n",
      " [ 0.  0.  0.  4. 16.  6.  0.  0.]\n",
      " [ 0.  0.  0.  2. 16.  6.  0.  0.]\n",
      " [ 0.  0.  0.  0. 12. 11.  0.  0.]]\n"
     ]
    },
    {
     "data": {
      "text/plain": [
       "<Figure size 432x288 with 0 Axes>"
      ]
     },
     "metadata": {},
     "output_type": "display_data"
    },
    {
     "data": {
      "image/png": "[encoded data removed]",
      "text/plain": [
       "<Figure size 288x288 with 1 Axes>"
      ]
     },
     "metadata": {
      "needs_background": "light"
     },
     "output_type": "display_data"
    }
   ],
   "source": [
    "pl.gray() # Queremos las imágenes en grises\n",
    "prueba=digits.images[70]\n",
    "pl.matshow(prueba) # Imprimir una imagen dada\n",
    "print(prueba) # Ver la representacion en pixeles\n",
    "\n"
   ]
  },
  {
   "cell_type": "markdown",
   "metadata": {},
   "source": [
    "## Solución"
   ]
  },
  {
   "cell_type": "code",
   "execution_count": 1,
   "metadata": {},
   "outputs": [],
   "source": [
    "import numpy\n",
    "import random"
   ]
  },
  {
   "cell_type": "code",
   "execution_count": 36,
   "metadata": {},
   "outputs": [],
   "source": [
    "# matriz modelo para el número siete\n",
    "\n",
    "modelo_siete=[\n",
    "    [0,16,16,16,16,16,16,0],\n",
    "    [0,0,0,0,16,16,16,0],\n",
    "    [0,0,0,0,0,16,16,0],\n",
    "    [0,0,0,0,16,16,0,0],\n",
    "    [0,16,16,16,16,16,16,16],\n",
    "    [0,0,0,16,16,0,0,0],\n",
    "    [0,0,0,16,16,0,0,0],\n",
    "    [0,0,0,16,16,0,0,0]\n",
    "]\n",
    "\n",
    "\n",
    "# matriz modelo para el número nueve\n",
    "modelo_nueve=[\n",
    "    [0,0,0,16,16,16,0,0],\n",
    "    [0,0,16,0,0,16,16,0],\n",
    "    [0,16,16,0,0,16,16,0],\n",
    "    [0,0,16,0,0,16,16,0],\n",
    "    [0,0,0,16,16,16,0,0],\n",
    "    [0,0,0,0,16,16,0,0],\n",
    "    [0,0,0,16,16,0,0,0],\n",
    "    [0,0,16,16,0,0,0,0]\n",
    "]"
   ]
  },
  {
   "cell_type": "code",
   "execution_count": 10,
   "metadata": {},
   "outputs": [],
   "source": [
    "def filtro(numero):\n",
    "    diccionario={}\n",
    "    for i,j in enumerate(digits.target):\n",
    "        if (digits.target[i]==numero):\n",
    "            diccionario [i]=digits.images[i]\n",
    "    return diccionario\n",
    "    \n"
   ]
  },
  {
   "cell_type": "code",
   "execution_count": 31,
   "metadata": {},
   "outputs": [],
   "source": [
    "# metodo para dejar cada pixel como blanco(16) o negro(0) sin valores medios grises\n",
    "#valor_inflexion valor a partir del cual se considerara un pixel como blanco\n",
    "def normalizar(matriz,valor_inflexion):\n",
    "    matriz_norm= numpy.zeros((8,8))\n",
    "    for f in range(len(matriz)):\n",
    "        for c in range(len(matriz[f])):\n",
    "            if (matriz[f][c]>= valor_inflexion):\n",
    "                matriz_norm[f][c]=16\n",
    "            else:\n",
    "                matriz_norm[f][c]=0\n",
    "    return matriz_norm"
   ]
  },
  {
   "cell_type": "code",
   "execution_count": 48,
   "metadata": {
    "scrolled": true
   },
   "outputs": [
    {
     "data": {
      "text/plain": [
       "array([[ 0.,  0.,  0.,  0., 16.,  0.,  0.,  0.],\n",
       "       [ 0.,  0.,  0., 16., 16., 16.,  0.,  0.],\n",
       "       [ 0.,  0., 16., 16., 16.,  0.,  0.,  0.],\n",
       "       [ 0.,  0., 16., 16., 16.,  0.,  0.,  0.],\n",
       "       [ 0.,  0.,  0.,  0., 16.,  0.,  0.,  0.],\n",
       "       [ 0.,  0.,  0.,  0., 16.,  0.,  0.,  0.],\n",
       "       [ 0.,  0.,  0.,  0., 16.,  0.,  0.,  0.],\n",
       "       [ 0.,  0.,  0.,  0., 16., 16.,  0.,  0.]])"
      ]
     },
     "execution_count": 48,
     "metadata": {},
     "output_type": "execute_result"
    }
   ],
   "source": [
    "prueba_norm=normalizar(prueba,8)\n",
    "prueba_norm"
   ]
  },
  {
   "cell_type": "code",
   "execution_count": 38,
   "metadata": {},
   "outputs": [],
   "source": [
    "# metodo para determinar la razon de coincidencia de la representacion \"normalizada\" \n",
    "#con un  modelo de numero establecido\n",
    "# matriz, representacion normalizada \n",
    "# modelo del numero con el cual se quiere comparar\n",
    "def porcentaje_coincidencia(matriz,modelo):\n",
    "    count=0\n",
    "    for f in range(len(matriz)):\n",
    "        for c in range(len(matriz[f])):\n",
    "            if (matriz[f][c]==modelo[f][c]):\n",
    "                count+=1\n",
    "    return count/64"
   ]
  },
  {
   "cell_type": "code",
   "execution_count": 50,
   "metadata": {},
   "outputs": [
    {
     "name": "stdout",
     "output_type": "stream",
     "text": [
      "0.609375\n",
      "0.640625\n"
     ]
    }
   ],
   "source": [
    "print(porcentaje_coincidencia(prueba_norm,modelo_siete))\n",
    "print(porcentaje_coincidencia(prueba_norm,modelo_nueve))"
   ]
  },
  {
   "cell_type": "code",
   "execution_count": 14,
   "metadata": {},
   "outputs": [],
   "source": [
    "def obtenerMuestra ():\n",
    "    muestra={}\n",
    "    contador7=0\n",
    "    contador9=0\n",
    "    for i in range(539):\n",
    "        r=random.randint(0,1792)\n",
    "        muestra[i]=digits.images[r],digits.target[r]\n",
    "        if(digits.target[r]==7):\n",
    "            contador7+=1\n",
    "        if(digits.target[r]==9):\n",
    "            contador9+=1       \n",
    "    return muestra, contador7, contador9"
   ]
  },
  {
   "cell_type": "code",
   "execution_count": null,
   "metadata": {},
   "outputs": [],
   "source": []
  },
  {
   "cell_type": "code",
   "execution_count": null,
   "metadata": {},
   "outputs": [],
   "source": []
  }
 ],
 "metadata": {
  "kernelspec": {
   "display_name": "Python 3",
   "language": "python",
   "name": "python3"
  },
  "language_info": {
   "codemirror_mode": {
    "name": "ipython",
    "version": 3
   },
   "file_extension": ".py",
   "mimetype": "text/x-python",
   "name": "python",
   "nbconvert_exporter": "python",
   "pygments_lexer": "ipython3",
   "version": "3.7.3"
  }
 },
 "nbformat": 4,
 "nbformat_minor": 2
}
